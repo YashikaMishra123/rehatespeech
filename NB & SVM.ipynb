{
 "cells": [
  {
   "cell_type": "code",
   "execution_count": 15,
   "id": "f7810c74",
   "metadata": {},
   "outputs": [],
   "source": [
    "import pandas as pd\n",
    "from sklearn.feature_extraction.text import TfidfVectorizer\n",
    "from sklearn.model_selection import train_test_split\n",
    "from sklearn.feature_extraction.text import CountVectorizer\n",
    "from sklearn.tree import DecisionTreeClassifier"
   ]
  },
  {
   "cell_type": "code",
   "execution_count": 16,
   "id": "4efcc762",
   "metadata": {},
   "outputs": [],
   "source": [
    "# import the required libraries\n",
    "import pandas as pd\n",
    "import numpy as np\n",
    "import re\n",
    "import seaborn as sns\n",
    "import matplotlib.pyplot as plt\n",
    "from matplotlib import style\n",
    "style.use('ggplot')\n",
    "from nltk.tokenize import word_tokenize\n",
    "from nltk.stem import WordNetLemmatizer\n",
    "from nltk.corpus import stopwords\n",
    "stop_words = set(stopwords.words('english'))\n",
    "from wordcloud import WordCloud\n",
    "from sklearn.feature_extraction.text import TfidfVectorizer\n",
    "from sklearn.model_selection import train_test_split\n",
    "from sklearn.linear_model import LogisticRegression\n",
    "from sklearn.metrics import accuracy_score, classification_report, confusion_matrix, ConfusionMatrixDisplay\n",
    "import unicodedata"
   ]
  },
  {
   "cell_type": "code",
   "execution_count": 17,
   "id": "7874a7ff",
   "metadata": {},
   "outputs": [
    {
     "name": "stdout",
     "output_type": "stream",
     "text": [
      "hate\n"
     ]
    },
    {
     "data": {
      "text/html": [
       "<div>\n",
       "<style scoped>\n",
       "    .dataframe tbody tr th:only-of-type {\n",
       "        vertical-align: middle;\n",
       "    }\n",
       "\n",
       "    .dataframe tbody tr th {\n",
       "        vertical-align: top;\n",
       "    }\n",
       "\n",
       "    .dataframe thead th {\n",
       "        text-align: right;\n",
       "    }\n",
       "</style>\n",
       "<table border=\"1\" class=\"dataframe\">\n",
       "  <thead>\n",
       "    <tr style=\"text-align: right;\">\n",
       "      <th></th>\n",
       "      <th>label</th>\n",
       "      <th>text</th>\n",
       "    </tr>\n",
       "  </thead>\n",
       "  <tbody>\n",
       "    <tr>\n",
       "      <th>15209</th>\n",
       "      <td>1</td>\n",
       "      <td>as soon as my friend came over she was showing...</td>\n",
       "    </tr>\n",
       "    <tr>\n",
       "      <th>209</th>\n",
       "      <td>1</td>\n",
       "      <td>\"Is there a way to become non-racist?\" Why wou...</td>\n",
       "    </tr>\n",
       "    <tr>\n",
       "      <th>3521</th>\n",
       "      <td>0</td>\n",
       "      <td>Shut up, no one fucking loves you in the first...</td>\n",
       "    </tr>\n",
       "    <tr>\n",
       "      <th>24353</th>\n",
       "      <td>0</td>\n",
       "      <td>All Lives Matter is also a way of saying they ...</td>\n",
       "    </tr>\n",
       "    <tr>\n",
       "      <th>7751</th>\n",
       "      <td>0</td>\n",
       "      <td>this building is a shithole</td>\n",
       "    </tr>\n",
       "  </tbody>\n",
       "</table>\n",
       "</div>"
      ],
      "text/plain": [
       "       label                                               text\n",
       "15209      1  as soon as my friend came over she was showing...\n",
       "209        1  \"Is there a way to become non-racist?\" Why wou...\n",
       "3521       0  Shut up, no one fucking loves you in the first...\n",
       "24353      0  All Lives Matter is also a way of saying they ...\n",
       "7751       0                        this building is a shithole"
      ]
     },
     "execution_count": 17,
     "metadata": {},
     "output_type": "execute_result"
    }
   ],
   "source": [
    "from sklearn.utils import shuffle\n",
    "# Load your dataset\n",
    "from sklearn.utils import shuffle\n",
    "df = pd.read_csv(r\"C:\\Users\\Yashika\\OneDrive\\Desktop\\Dissertation\\data set\\Final Dataset\\Racial and ethical hate speech.csv\")\n",
    "df = df.sample(frac=1).reset_index(drop=True) #\n",
    "df = df[['label','text']]\n",
    "df = shuffle(df)  \n",
    "#df['label'] =df['label'].map({ 'nothate':0, 'hate': 1})\n",
    "df = df[['label','text']]\n",
    "df.tail()\n",
    "      \n",
    "import pandas as pd\n",
    "from sklearn.utils import resample\n",
    "\n",
    "minority_class = df['label'].value_counts().idxmin()\n",
    "print(minority_class)\n",
    "# Separate majority and minority classes\n",
    "majority_df = df[df['label'] != minority_class]\n",
    "minority_df = df[df['label'] == minority_class]\n",
    "\n",
    "# Downsample the majority class\n",
    "majority_downsampled = resample(majority_df, replace=False, n_samples=len(minority_df), random_state=100)\n",
    "\n",
    "# Combine the minority class DataFrame with the downsampled majority class DataFrame\n",
    "balanced_df = pd.concat([majority_downsampled, minority_df])\n",
    "\n",
    "# 'balanced_df' now contains a balanced dataset\n",
    "df['label'] =df['label'].map({ 'nothate':0, 'hate': 1})\n",
    "df = df[['label','text']]\n",
    "df = shuffle(df)\n",
    "df.head()"
   ]
  },
  {
   "cell_type": "code",
   "execution_count": 18,
   "id": "11d131aa",
   "metadata": {},
   "outputs": [],
   "source": [
    "#creating a function to process the data\n",
    "def data_processing(tweet):\n",
    "    tweet = tweet.lower()\n",
    "    tweet = re.sub(r\"https\\S+|www\\S+http\\S+\", '', tweet, flags = re.MULTILINE)\n",
    "    tweet = re.sub(r'\\@w+|\\#','', tweet)\n",
    "    tweet = re.sub(r'[^\\w\\s]','',tweet)\n",
    "    tweet = re.sub(r'ð','',tweet)\n",
    "    tweet_tokens = word_tokenize(tweet)\n",
    "    filtered_tweets = [w for w in tweet_tokens if not w in stop_words]\n",
    "    return \" \".join(filtered_tweets)"
   ]
  },
  {
   "cell_type": "code",
   "execution_count": 19,
   "id": "c7aef08b",
   "metadata": {},
   "outputs": [],
   "source": [
    "balanced_df.text = balanced_df['text'].apply(data_processing)"
   ]
  },
  {
   "cell_type": "code",
   "execution_count": 20,
   "id": "ec069e1a",
   "metadata": {},
   "outputs": [],
   "source": [
    "def unicode_to_ascii(s):\n",
    "    return ''.join(c for c in unicodedata.normalize('NFD', s) if unicodedata.category(c) != 'Mn')\n",
    "\n",
    "def clean_stopwords_shortwords(w):\n",
    "    stopwords_list=stopwords.words('english')\n",
    "    words = w.split() \n",
    "    clean_words = [word for word in words if (word not in stopwords_list) and len(word) > 2]\n",
    "    return \" \".join(clean_words) \n",
    "\n",
    "def preprocess_sentence(w):\n",
    "    pro = unicode_to_ascii(w.lower().strip())\n",
    "    pro = re.sub(r\"([?.!,¿])\", r\" \", w)\n",
    "    pro = re.sub(r'[\" \"]+', \" \", w)\n",
    "    pro = re.sub(r\"[^a-zA-Z?.!,¿]+\", \" \", w)\n",
    "    pro=clean_stopwords_shortwords(w)\n",
    "    pro=re.sub(r'@\\w+', '',w)\n",
    "    return pro\n",
    "df['text']=df['text'].map(preprocess_sentence)"
   ]
  },
  {
   "cell_type": "code",
   "execution_count": 21,
   "id": "8b36ec1d",
   "metadata": {},
   "outputs": [
    {
     "name": "stdout",
     "output_type": "stream",
     "text": [
      "1\n",
      "       label                                               text\n",
      "2269       0         girls under 11 are circumstanced in Africa\n",
      "16548      0                       racism is fucking disgusting\n",
      "8091       0  immigrants are welcome to it themselve. they c...\n",
      "7566       0  I'm stronger than the average white man and th...\n",
      "11712      0                                  the world is shit\n",
      "...      ...                                                ...\n",
      "19888      1  Why didn't he just lay him out? And the homele...\n",
      "19429      1  So listen to this story I read in the newspape...\n",
      "15934      1  My parents remember the pre EU era in the 60’s...\n",
      "24051      1  Remember when they tried to blame Mussies and ...\n",
      "22977      1  Fuck niggers, kikes, trannies, faggots, spics,...\n",
      "\n",
      "[19400 rows x 2 columns]\n"
     ]
    }
   ],
   "source": [
    "import pandas as pd\n",
    "from sklearn.utils import resample\n",
    "\n",
    "minority_class = df['label'].value_counts().idxmin()\n",
    "print(minority_class)\n",
    "# Separate majority and minority classes\n",
    "majority_df = df[df['label'] != minority_class]\n",
    "minority_df = df[df['label'] == minority_class]\n",
    "\n",
    "# Downsample the majority class\n",
    "majority_downsampled = resample(majority_df, replace=False, n_samples=len(minority_df), random_state=100)\n",
    "\n",
    "# Combine the minority class DataFrame with the downsampled majority class DataFrame\n",
    "balanced_df = pd.concat([majority_downsampled, minority_df])\n",
    "\n",
    "\n",
    "print(balanced_df)"
   ]
  },
  {
   "cell_type": "code",
   "execution_count": 22,
   "id": "453297af",
   "metadata": {},
   "outputs": [],
   "source": [
    "x = np.array(balanced_df[\"text\"])\n",
    "y = np.array(balanced_df[\"label\"])"
   ]
  },
  {
   "cell_type": "code",
   "execution_count": 23,
   "id": "f6150303",
   "metadata": {},
   "outputs": [],
   "source": [
    "cv = CountVectorizer()"
   ]
  },
  {
   "cell_type": "code",
   "execution_count": 24,
   "id": "8c946f4c",
   "metadata": {},
   "outputs": [],
   "source": [
    "X = cv.fit_transform(x)"
   ]
  },
  {
   "cell_type": "code",
   "execution_count": 29,
   "id": "b77f1a6e",
   "metadata": {},
   "outputs": [],
   "source": [
    "from sklearn.metrics import accuracy_score"
   ]
  },
  {
   "cell_type": "code",
   "execution_count": null,
   "id": "6baf428a",
   "metadata": {},
   "outputs": [],
   "source": [
    "import pandas as pd\n",
    "from sklearn.feature_extraction.text import TfidfVectorizer\n",
    "from sklearn.naive_bayes import MultinomialNB\n",
    "from sklearn.model_selection import train_test_split\n",
    "from sklearn.metrics import accuracy_score, classification_report\n",
    "\n",
    "\n",
    "X = balanced_df['text']\n",
    "y = balanced_df['label']\n",
    "\n",
    "# Split the data into training and testing sets\n",
    "X_train, X_test, y_train, y_test = train_test_split(X, y, test_size=0.2, random_state=42)\n",
    "\n",
    "# Vectorize the text data using TF-IDF\n",
    "vectorizer = TfidfVectorizer(max_features=5000)  # You can adjust max_features as needed\n",
    "X_train_tfidf = vectorizer.fit_transform(X_train)\n",
    "\n",
    "# Initialize and train a Naive Bayes classifier (MultinomialNB)\n",
    "nb_classifier = MultinomialNB()\n",
    "nb_classifier.fit(X_train_tfidf, y_train)\n",
    "\n",
    "# Vectorize the test data using the same vectorizer\n",
    "X_test_tfidf = vectorizer.transform(X_test)\n",
    "\n",
    "# Make predictions on the test data\n",
    "y_pred = nb_classifier.predict(X_test_tfidf)\n",
    "\n",
    "# Calculate accuracy and print it\n",
    "accuracy = accuracy_score(y_test, y_pred)\n",
    "print(f\"Accuracy: {accuracy:.2f}\")\n",
    "\n",
    "# Print a classification report with precision, recall, and F1-score\n",
    "print(classification_report(y_test, y_pred))"
   ]
  },
  {
   "cell_type": "code",
   "execution_count": null,
   "id": "6d9ef0de",
   "metadata": {},
   "outputs": [],
   "source": [
    "conf_matrix = confusion_matrix(y_test, y_pred)\n",
    "print(\"Confusion Matrix:\")\n",
    "print(conf_matrix)\n",
    "# Create a heatmap with a custom colormap\n",
    "plt.figure(figsize=(8, 6))\n",
    "sns.heatmap(conf_matrix, annot=True, fmt='d', \n",
    "            xticklabels=['Non-Hate', 'Hate'], yticklabels=['Non-Hate', 'Hate'],\n",
    "            cmap='cividis')  # You can change the colormap (e.g., 'coolwarm')\n",
    "plt.xlabel('Predicted')\n",
    "plt.ylabel('Actual')\n",
    "plt.title('Confusion Matrix-MultinomialNB')\n",
    "plt.show()"
   ]
  },
  {
   "cell_type": "code",
   "execution_count": null,
   "id": "e2157b8f",
   "metadata": {},
   "outputs": [],
   "source": [
    "\n",
    "X = balanced_df['text']\n",
    "y = balanced_df['label']\n",
    "\n",
    "# Split the data into training and testing sets\n",
    "X_train, X_test, y_train, y_test = train_test_split(X, y, test_size=0.2, random_state=42)\n",
    "\n",
    "# Vectorize the text data using TF-IDF\n",
    "vectorizer = TfidfVectorizer(max_features=5000)  # You can adjust max_features as needed\n",
    "X_train_tfidf = vectorizer.fit_transform(X_train)\n",
    "X_test_tfidf = vectorizer.transform(X_test)\n",
    "\n",
    "# Initialize and train an SVM classifier\n",
    "svm_classifier = SVC(kernel='linear', C=1.0, random_state=42)\n",
    "svm_classifier.fit(X_train_tfidf, y_train)\n",
    "\n",
    "# Make predictions on the test data\n",
    "y_pred = svm_classifier.predict(X_test_tfidf)\n",
    "\n",
    "# Calculate accuracy\n",
    "accuracy = accuracy_score(y_test, y_pred)\n",
    "print(f\"Accuracy: {accuracy:.2f}\")\n",
    "\n",
    "# Print a classification report with precision, recall, and F1-score\n",
    "print(classification_report(y_test, y_pred))\n",
    "\n",
    "# Get the confusion matrix\n",
    "conf_matrix = confusion_matrix(y_test, y_pred)\n",
    "print(\"Confusion Matrix:\")\n",
    "print(conf_matrix)"
   ]
  },
  {
   "cell_type": "code",
   "execution_count": null,
   "id": "2bc5de01",
   "metadata": {},
   "outputs": [],
   "source": [
    "\n",
    "# Create a heatmap with a custom colormap\n",
    "plt.figure(figsize=(8, 6))\n",
    "sns.heatmap(conf_matrix, annot=True, fmt='d', \n",
    "            xticklabels=['Non-Hate', 'Hate'], yticklabels=['Non-Hate', 'Hate'],\n",
    "            cmap='cividis')  # You can change the colormap (e.g., 'coolwarm')\n",
    "plt.xlabel('Predicted')\n",
    "plt.ylabel('Actual')\n",
    "plt.title('Confusion Matrix Heatmap-svm_classifier')\n",
    "plt.show()"
   ]
  },
  {
   "cell_type": "code",
   "execution_count": null,
   "id": "d4b7be95",
   "metadata": {},
   "outputs": [],
   "source": []
  }
 ],
 "metadata": {
  "kernelspec": {
   "display_name": "Python 3 (ipykernel)",
   "language": "python",
   "name": "python3"
  },
  "language_info": {
   "codemirror_mode": {
    "name": "ipython",
    "version": 3
   },
   "file_extension": ".py",
   "mimetype": "text/x-python",
   "name": "python",
   "nbconvert_exporter": "python",
   "pygments_lexer": "ipython3",
   "version": "3.11.4"
  }
 },
 "nbformat": 4,
 "nbformat_minor": 5
}
