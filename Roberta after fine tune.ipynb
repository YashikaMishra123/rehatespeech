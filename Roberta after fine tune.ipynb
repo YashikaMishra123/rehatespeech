{
 "cells": [
  {
   "cell_type": "code",
   "execution_count": 1,
   "id": "699f92ff",
   "metadata": {},
   "outputs": [],
   "source": [
    "import os\n",
    "import pandas as pd\n",
    "import tensorflow as tf\n",
    "import numpy as np\n",
    "from tensorflow.keras.layers import TextVectorizatio\n",
    "from sklearn.utils import shuffle\n",
    "# import the required libraries\n",
    "import pandas as pd\n",
    "import numpy as np\n",
    "import seaborn as sns\n",
    "import matplotlib.pyplot as plt\n",
    "from matplotlib import style\n",
    "style.use('ggplot')\n",
    "from nltk.tokenize import word_tokenize\n",
    "from nltk.stem import WordNetLemmatizer\n",
    "from nltk.corpus import stopwords\n",
    "stop_words = set(stopwords.words('english'))\n",
    "from wordcloud import WordCloud\n",
    "from sklearn.feature_extraction.text import TfidfVectorizer\n",
    "from sklearn.model_selection import train_test_split\n",
    "from sklearn.linear_model import LogisticRegression\n",
    "from sklearn.metrics import accuracy_score, classification_report, confusion_matrix, ConfusionMatrixDisplay\n",
    "import unicodedata"
   ]
  },
  {
   "cell_type": "code",
   "execution_count": 2,
   "id": "d8f4be2a",
   "metadata": {},
   "outputs": [
    {
     "data": {
      "text/html": [
       "<div>\n",
       "<style scoped>\n",
       "    .dataframe tbody tr th:only-of-type {\n",
       "        vertical-align: middle;\n",
       "    }\n",
       "\n",
       "    .dataframe tbody tr th {\n",
       "        vertical-align: top;\n",
       "    }\n",
       "\n",
       "    .dataframe thead th {\n",
       "        text-align: right;\n",
       "    }\n",
       "</style>\n",
       "<table border=\"1\" class=\"dataframe\">\n",
       "  <thead>\n",
       "    <tr style=\"text-align: right;\">\n",
       "      <th></th>\n",
       "      <th>label</th>\n",
       "      <th>text</th>\n",
       "    </tr>\n",
       "  </thead>\n",
       "  <tbody>\n",
       "    <tr>\n",
       "      <th>10603</th>\n",
       "      <td>hate</td>\n",
       "      <td>I concur that due to the fact they are overedu...</td>\n",
       "    </tr>\n",
       "    <tr>\n",
       "      <th>25357</th>\n",
       "      <td>nothate</td>\n",
       "      <td>So here you have some fuckanometry lol: Firm a...</td>\n",
       "    </tr>\n",
       "    <tr>\n",
       "      <th>10567</th>\n",
       "      <td>hate</td>\n",
       "      <td>I do not like hating other races. I just want ...</td>\n",
       "    </tr>\n",
       "    <tr>\n",
       "      <th>25993</th>\n",
       "      <td>nothate</td>\n",
       "      <td>Britain used to be home to the most lovely thi...</td>\n",
       "    </tr>\n",
       "    <tr>\n",
       "      <th>6350</th>\n",
       "      <td>hate</td>\n",
       "      <td>What the frig are you talking about you camel ...</td>\n",
       "    </tr>\n",
       "  </tbody>\n",
       "</table>\n",
       "</div>"
      ],
      "text/plain": [
       "         label                                               text\n",
       "10603     hate  I concur that due to the fact they are overedu...\n",
       "25357  nothate  So here you have some fuckanometry lol: Firm a...\n",
       "10567     hate  I do not like hating other races. I just want ...\n",
       "25993  nothate  Britain used to be home to the most lovely thi...\n",
       "6350      hate  What the frig are you talking about you camel ..."
      ]
     },
     "execution_count": 2,
     "metadata": {},
     "output_type": "execute_result"
    }
   ],
   "source": [
    "from sklearn.utils import shuffle\n",
    "df = pd.read_csv(r\"C:\\Users\\Yashika\\OneDrive\\Desktop\\Dissertation\\data set\\Final Dataset\\Racial and ethical hate speech.csv\")\n",
    "df = df.sample(frac=1).reset_index(drop=True) #\n",
    "df = df[['label','text']]\n",
    "df = shuffle(df)  \n",
    "#df['label'] =df['label'].map({ 'nothate':0, 'hate': 1})\n",
    "df = df[['label','text']]\n",
    "df.tail()"
   ]
  },
  {
   "cell_type": "code",
   "execution_count": 3,
   "id": "8bba652a",
   "metadata": {},
   "outputs": [
    {
     "data": {
      "text/html": [
       "<div>\n",
       "<style scoped>\n",
       "    .dataframe tbody tr th:only-of-type {\n",
       "        vertical-align: middle;\n",
       "    }\n",
       "\n",
       "    .dataframe tbody tr th {\n",
       "        vertical-align: top;\n",
       "    }\n",
       "\n",
       "    .dataframe thead th {\n",
       "        text-align: right;\n",
       "    }\n",
       "</style>\n",
       "<table border=\"1\" class=\"dataframe\">\n",
       "  <thead>\n",
       "    <tr style=\"text-align: right;\">\n",
       "      <th></th>\n",
       "      <th>label</th>\n",
       "      <th>text</th>\n",
       "    </tr>\n",
       "  </thead>\n",
       "  <tbody>\n",
       "    <tr>\n",
       "      <th>10603</th>\n",
       "      <td>1</td>\n",
       "      <td>I concur that due to the fact they are overedu...</td>\n",
       "    </tr>\n",
       "    <tr>\n",
       "      <th>25357</th>\n",
       "      <td>0</td>\n",
       "      <td>So here you have some fuckanometry lol: Firm a...</td>\n",
       "    </tr>\n",
       "    <tr>\n",
       "      <th>10567</th>\n",
       "      <td>1</td>\n",
       "      <td>I do not like hating other races. I just want ...</td>\n",
       "    </tr>\n",
       "    <tr>\n",
       "      <th>25993</th>\n",
       "      <td>0</td>\n",
       "      <td>Britain used to be home to the most lovely thi...</td>\n",
       "    </tr>\n",
       "    <tr>\n",
       "      <th>6350</th>\n",
       "      <td>1</td>\n",
       "      <td>What the frig are you talking about you camel ...</td>\n",
       "    </tr>\n",
       "  </tbody>\n",
       "</table>\n",
       "</div>"
      ],
      "text/plain": [
       "       label                                               text\n",
       "10603      1  I concur that due to the fact they are overedu...\n",
       "25357      0  So here you have some fuckanometry lol: Firm a...\n",
       "10567      1  I do not like hating other races. I just want ...\n",
       "25993      0  Britain used to be home to the most lovely thi...\n",
       "6350       1  What the frig are you talking about you camel ..."
      ]
     },
     "execution_count": 3,
     "metadata": {},
     "output_type": "execute_result"
    }
   ],
   "source": [
    "df['label'] =df['label'].map({ 'nothate':0, 'hate': 1})\n",
    "df = df[['label','text']]\n",
    "#df = shuffle(df)\n",
    "df.tail()"
   ]
  },
  {
   "cell_type": "code",
   "execution_count": 4,
   "id": "5af3db29",
   "metadata": {},
   "outputs": [
    {
     "name": "stdout",
     "output_type": "stream",
     "text": [
      "1\n"
     ]
    }
   ],
   "source": [
    "import pandas as pd\n",
    "from sklearn.utils import resample\n",
    "\n",
    "minority_class = df['label'].value_counts().idxmin()\n",
    "print(minority_class)\n",
    "# Separate majority and minority classes\n",
    "majority_df = df[df['label'] != minority_class]\n",
    "minority_df = df[df['label'] == minority_class]\n",
    "\n",
    "# Downsample the majority class\n",
    "majority_downsampled = resample(majority_df, replace=False, n_samples=len(minority_df), random_state=100)\n",
    "\n",
    "# Combine the minority class DataFrame with the downsampled majority class DataFrame\n",
    "balanced_df = pd.concat([majority_downsampled, minority_df])\n",
    "\n",
    "# 'balanced_df' now contains a balanced dataset\n"
   ]
  },
  {
   "cell_type": "code",
   "execution_count": 5,
   "id": "89c64197",
   "metadata": {},
   "outputs": [
    {
     "data": {
      "image/png": "[encoded data removed]",
      "text/plain": [
       "<Figure size 600x400 with 1 Axes>"
      ]
     },
     "metadata": {},
     "output_type": "display_data"
    }
   ],
   "source": [
    "#print(balanced_df)\n",
    "import pandas as pd\n",
    "import matplotlib.pyplot as plt\n",
    "\n",
    "# Assuming 'label' is the name of the column in your DataFrame\n",
    "label_counts = balanced_df['label'].value_counts()\n",
    "\n",
    "# Create a bar chart\n",
    "plt.figure(figsize=(6, 4))  # Optional: Set the figure size\n",
    "label_counts.plot(kind='bar', color=['blue', 'green'])  # Use color to distinguish 0s and 1s\n",
    "\n",
    "# Add labels and title\n",
    "plt.xlabel('Label')\n",
    "plt.ylabel('Count')\n",
    "plt.title('Count of 0s and 1s in \"label\" column')\n",
    "\n",
    "plt.show()  # Display the plot"
   ]
  },
  {
   "cell_type": "code",
   "execution_count": 6,
   "id": "f7fd9f91",
   "metadata": {},
   "outputs": [
    {
     "name": "stdout",
     "output_type": "stream",
     "text": [
      "       label                                               text\n",
      "26358      0  \"U ain't white. Accept whatever injun or whate...\n",
      "5667       1  The neckbeard loser with an Southeast/East Asi...\n",
      "20144      0  There's a ton of people who dont exactly like ...\n",
      "25808      1  The more i explore the world , the more i real...\n",
      "3366       1  Where the fuck are the tv shows Billionaires o...\n"
     ]
    }
   ],
   "source": [
    "balanced_df = shuffle(balanced_df)\n",
    "print(balanced_df.tail())"
   ]
  },
  {
   "cell_type": "code",
   "execution_count": 15,
   "id": "31af3d12",
   "metadata": {},
   "outputs": [],
   "source": [
    "max_length = balanced_df['text'].str.len().max()"
   ]
  },
  {
   "cell_type": "code",
   "execution_count": 20,
   "id": "defd42e5",
   "metadata": {},
   "outputs": [],
   "source": [
    "tokenizer = AutoTokenizer.from_pretrained(\"roberta-base\") #Tokenizer\n",
    "\n",
    "train_inputs = tokenizer(X_train.tolist(),padding='max_length', max_length= max_length, truncation=True, return_tensors='tf') \n",
    "\n",
    "train_labels = y_train\n",
    "\n",
    "test_inputs = tokenizer(X_test.tolist(), padding='max_length', max_length=max_sequence_length, truncation=True, return_tensors='tf') #Tokenized text\n",
    "\n",
    "\n",
    "test_labels = y_test"
   ]
  },
  {
   "cell_type": "code",
   "execution_count": 24,
   "id": "93fdb75b",
   "metadata": {},
   "outputs": [],
   "source": [
    "import numpy as np\n",
    "import tensorflow as tf\n",
    "from sklearn.metrics import f1_score, confusion_matrix\n",
    "from transformers import TFAutoModelForSequenceClassification\n",
    "from tensorflow.keras.metrics import BinaryAccuracy  # Import BinaryAccuracy"
   ]
  },
  {
   "cell_type": "code",
   "execution_count": 25,
   "id": "1aa1e27c",
   "metadata": {
    "scrolled": false
   },
   "outputs": [
    {
     "name": "stdout",
     "output_type": "stream",
     "text": [
      "Epoch 1/10\n",
      "849/849 [==============================] - 774s 905ms/step - loss: 0.6444 - binary_accuracy: 0.6147 - val_loss: 0.5634 - val_binary_accuracy: 0.7273\n",
      "Epoch 2/10\n",
      "849/849 [==============================] - 764s 900ms/step - loss: 0.5207 - binary_accuracy: 0.7493 - val_loss: 0.4450 - val_binary_accuracy: 0.7998\n",
      "Epoch 3/10\n",
      "849/849 [==============================] - 730s 860ms/step - loss: 0.4524 - binary_accuracy: 0.7949 - val_loss: 0.3906 - val_binary_accuracy: 0.8321\n",
      "Epoch 4/10\n",
      "849/849 [==============================] - 719s 847ms/step - loss: 0.4012 - binary_accuracy: 0.8211 - val_loss: 0.3718 - val_binary_accuracy: 0.8450\n",
      "Epoch 5/10\n",
      "849/849 [==============================] - 744s 876ms/step - loss: 0.3640 - binary_accuracy: 0.8355 - val_loss: 0.3176 - val_binary_accuracy: 0.8551\n",
      "Epoch 6/10\n",
      "849/849 [==============================] - 756s 890ms/step - loss: 0.3262 - binary_accuracy: 0.8534 - val_loss: 0.2775 - val_binary_accuracy: 0.8781\n",
      "Epoch 7/10\n",
      "849/849 [==============================] - 785s 925ms/step - loss: 0.2898 - binary_accuracy: 0.8696 - val_loss: 0.2298 - val_binary_accuracy: 0.8918\n",
      "Epoch 8/10\n",
      "849/849 [==============================] - 749s 882ms/step - loss: 0.2646 - binary_accuracy: 0.8757 - val_loss: 0.2145 - val_binary_accuracy: 0.8954\n",
      "Epoch 9/10\n",
      "849/849 [==============================] - 797s 939ms/step - loss: 0.2307 - binary_accuracy: 0.8896 - val_loss: 0.1999 - val_binary_accuracy: 0.9013\n",
      "Epoch 10/10\n",
      "849/849 [==============================] - 785s 925ms/step - loss: 0.2090 - binary_accuracy: 0.8957 - val_loss: 0.1751 - val_binary_accuracy: 0.9070\n"
     ]
    }
   ],
   "source": [
    "class LossOnHistoryRobert(tf.keras.callbacks.Callback):\n",
    "    def __init__(self, x_val, y_val):\n",
    "        self.x_val = x_val\n",
    "        self.y_val = y_val\n",
    "        self.history = {\n",
    "            'loss': [],\n",
    "            'accuracy': [],\n",
    "            'val_loss': [],\n",
    "            'val_accuracy': [],\n",
    "            'val_f1': [],\n",
    "            'val_binary_accuracy': []  # Store binary accuracy\n",
    "        }\n",
    "\n",
    "    def on_epoch_end(self, epoch, logs={}):\n",
    "        self.history['loss'].append(logs.get('loss'))\n",
    "        self.history['accuracy'].append(logs.get('sparse_categorical_accuracy'))\n",
    "\n",
    "        if logs.get('val_loss', -1) != -1:\n",
    "            self.history['val_loss'].append(logs.get('val_loss'))\n",
    "\n",
    "        if logs.get('val_sparse_categorical_accuracy', -1) != -1:\n",
    "            self.history['val_accuracy'].append(logs.get('val_sparse_categorical_accuracy'))\n",
    "\n",
    "        # Predict on validation data\n",
    "        y_pred = self.model.predict(self.x_val)\n",
    "        y_pred = np.argmax(y_pred.logits, axis=1)\n",
    "\n",
    "        # Calculate F1 score\n",
    "        f1 = f1_score(self.y_val, y_pred)\n",
    "\n",
    "        # Calculate binary accuracy\n",
    "        binary_accuracy = BinaryAccuracy()(self.y_val, tf.keras.backend.round(tf.convert_to_tensor(y_pred, dtype=tf.float32)))\n",
    "\n",
    "        # Print confusion matrix\n",
    "        print(confusion_matrix(self.y_val, y_pred))\n",
    "\n",
    "        self.history['val_f1'].append(f1)\n",
    "        self.history['val_binary_accuracy'].append(binary_accuracy.numpy())\n",
    "        print('F1 Score:', f1)\n",
    "        print('Binary Accuracy:', binary_accuracy.numpy())\n",
    "\n",
    "# Assuming you have prepared your training and validation data as x_train, y_train, x_val, y_val\n",
    "\n",
    "model = TFAutoModelForSequenceClassification.from_pretrained(\"roberta-base\", num_labels=2)\n",
    "\n",
    "model.compile(\n",
    "    optimizer=tf.keras.optimizers.Adam(learning_rate=0.00001, clipnorm=1.),\n",
    "    loss=tf.keras.losses.SparseCategoricalCrossentropy(from_logits=True),\n",
    "    metrics=[tf.keras.metrics.SparseCategoricalAccuracy()],\n",
    ")\n",
    "\n",
    "# Create the custom callback\n",
    "custom_callback = LossOnHistoryRobert(x_val, y_val)\n",
    "\n",
    "# Train the model\n",
    "history = model.fit(\n",
    "    x_train, y_train,\n",
    "    validation_data=(x_val, y_val),\n",
    "    batch_size=32,\n",
    "    epochs=10,\n",
    "    verbose=1,\n",
    "    callbacks=[custom_callback]\n",
    ")\n"
   ]
  },
  {
   "cell_type": "code",
   "execution_count": 28,
   "id": "8aaf3907",
   "metadata": {
    "scrolled": false
   },
   "outputs": [
    {
     "name": "stdout",
     "output_type": "stream",
     "text": [
      "1/1 [==============================] - 3s 3s/step\n",
      "1/1 [==============================] - 0s 244ms/step\n",
      "1/1 [==============================] - 0s 266ms/step\n",
      "1/1 [==============================] - 0s 263ms/step\n",
      "1/1 [==============================] - 0s 250ms/step\n",
      "1/1 [==============================] - 0s 238ms/step\n",
      "1/1 [==============================] - 0s 242ms/step\n",
      "1/1 [==============================] - 0s 195ms/step\n",
      "1/1 [==============================] - 0s 254ms/step\n",
      "1/1 [==============================] - 0s 255ms/step\n",
      "1/1 [==============================] - 0s 238ms/step\n",
      "1/1 [==============================] - 0s 241ms/step\n",
      "1/1 [==============================] - 0s 200ms/step\n",
      "1/1 [==============================] - 0s 221ms/step\n",
      "1/1 [==============================] - 0s 272ms/step\n",
      "1/1 [==============================] - 0s 248ms/step\n",
      "1/1 [==============================] - 0s 193ms/step\n",
      "1/1 [==============================] - 0s 236ms/step\n",
      "1/1 [==============================] - 0s 235ms/step\n",
      "1/1 [==============================] - 0s 242ms/step\n",
      "1/1 [==============================] - 0s 209ms/step\n",
      "1/1 [==============================] - 0s 216ms/step\n",
      "1/1 [==============================] - 0s 267ms/step\n",
      "1/1 [==============================] - 0s 240ms/step\n",
      "1/1 [==============================] - 0s 237ms/step\n",
      "1/1 [==============================] - 0s 253ms/step\n",
      "1/1 [==============================] - 0s 207ms/step\n",
      "1/1 [==============================] - 0s 200ms/step\n",
      "1/1 [==============================] - 0s 237ms/step\n",
      "1/1 [==============================] - 0s 241ms/step\n",
      "1/1 [==============================] - 0s 231ms/step\n",
      "1/1 [==============================] - 0s 212ms/step\n",
      "1/1 [==============================] - 0s 226ms/step\n",
      "1/1 [==============================] - 0s 209ms/step\n",
      "1/1 [==============================] - 0s 234ms/step\n",
      "1/1 [==============================] - 0s 255ms/step\n",
      "1/1 [==============================] - 0s 250ms/step\n",
      "1/1 [==============================] - 0s 214ms/step\n",
      "1/1 [==============================] - 0s 237ms/step\n",
      "1/1 [==============================] - 0s 204ms/step\n",
      "1/1 [==============================] - 0s 223ms/step\n",
      "1/1 [==============================] - 0s 227ms/step\n",
      "1/1 [==============================] - 0s 227ms/step\n",
      "1/1 [==============================] - 0s 240ms/step\n",
      "1/1 [==============================] - 0s 224ms/step\n",
      "1/1 [==============================] - 0s 232ms/step\n",
      "1/1 [==============================] - 0s 241ms/step\n",
      "1/1 [==============================] - 0s 213ms/step\n",
      "1/1 [==============================] - 0s 209ms/step\n",
      "1/1 [==============================] - 0s 215ms/step\n",
      "1/1 [==============================] - 0s 244ms/step\n",
      "1/1 [==============================] - 0s 204ms/step\n",
      "1/1 [==============================] - 0s 215ms/step\n",
      "1/1 [==============================] - 0s 182ms/step\n",
      "1/1 [==============================] - 0s 191ms/step\n",
      "1/1 [==============================] - 0s 217ms/step\n",
      "1/1 [==============================] - 0s 188ms/step\n",
      "1/1 [==============================] - 0s 215ms/step\n",
      "1/1 [==============================] - 0s 195ms/step\n",
      "1/1 [==============================] - 0s 206ms/step\n",
      "1/1 [==============================] - 0s 229ms/step\n",
      "1/1 [==============================] - 0s 228ms/step\n",
      "1/1 [==============================] - 0s 218ms/step\n",
      "1/1 [==============================] - 0s 226ms/step\n",
      "1/1 [==============================] - 0s 228ms/step\n",
      "1/1 [==============================] - 0s 189ms/step\n",
      "1/1 [==============================] - 0s 231ms/step\n",
      "1/1 [==============================] - 0s 210ms/step\n",
      "1/1 [==============================] - 0s 206ms/step\n",
      "1/1 [==============================] - 0s 192ms/step\n",
      "1/1 [==============================] - 0s 211ms/step\n",
      "1/1 [==============================] - 0s 227ms/step\n",
      "1/1 [==============================] - 0s 262ms/step\n",
      "1/1 [==============================] - 0s 182ms/step\n",
      "1/1 [==============================] - 0s 280ms/step\n",
      "1/1 [==============================] - 0s 241ms/step\n",
      "1/1 [==============================] - 0s 240ms/step\n",
      "1/1 [==============================] - 0s 225ms/step\n",
      "1/1 [==============================] - 0s 231ms/step\n",
      "1/1 [==============================] - 0s 253ms/step\n",
      "1/1 [==============================] - 0s 278ms/step\n",
      "1/1 [==============================] - 0s 264ms/step\n",
      "1/1 [==============================] - 0s 268ms/step\n",
      "1/1 [==============================] - 0s 263ms/step\n",
      "1/1 [==============================] - 0s 192ms/step\n",
      "1/1 [==============================] - 0s 256ms/step\n",
      "1/1 [==============================] - 0s 192ms/step\n",
      "1/1 [==============================] - 0s 233ms/step\n",
      "1/1 [==============================] - 0s 208ms/step\n",
      "1/1 [==============================] - 0s 222ms/step\n",
      "1/1 [==============================] - 0s 185ms/step\n",
      "1/1 [==============================] - 0s 232ms/step\n",
      "1/1 [==============================] - 0s 185ms/step\n",
      "1/1 [==============================] - 0s 225ms/step\n",
      "1/1 [==============================] - 0s 189ms/step\n",
      "1/1 [==============================] - 0s 276ms/step\n",
      "1/1 [==============================] - 0s 194ms/step\n",
      "1/1 [==============================] - 0s 218ms/step\n",
      "1/1 [==============================] - 0s 207ms/step\n",
      "1/1 [==============================] - 0s 190ms/step\n",
      "1/1 [==============================] - 0s 241ms/step\n",
      "1/1 [==============================] - 0s 216ms/step\n",
      "1/1 [==============================] - 0s 221ms/step\n",
      "1/1 [==============================] - 0s 230ms/step\n",
      "1/1 [==============================] - 0s 254ms/step\n",
      "1/1 [==============================] - 0s 203ms/step\n",
      "1/1 [==============================] - 0s 188ms/step\n",
      "1/1 [==============================] - 0s 233ms/step\n",
      "1/1 [==============================] - 0s 202ms/step\n",
      "1/1 [==============================] - 0s 229ms/step\n",
      "1/1 [==============================] - 0s 191ms/step\n",
      "1/1 [==============================] - 0s 192ms/step\n",
      "1/1 [==============================] - 0s 190ms/step\n",
      "1/1 [==============================] - 0s 201ms/step\n",
      "1/1 [==============================] - 0s 208ms/step\n",
      "1/1 [==============================] - 0s 183ms/step\n",
      "1/1 [==============================] - 0s 199ms/step\n",
      "1/1 [==============================] - 0s 191ms/step\n",
      "1/1 [==============================] - 0s 205ms/step\n",
      "1/1 [==============================] - 0s 181ms/step\n",
      "1/1 [==============================] - 0s 179ms/step\n",
      "              precision    recall  f1-score   support\n",
      "\n",
      "           0       0.95      0.89      0.92      1002\n",
      "           1       0.89      0.95      0.92       934\n",
      "\n",
      "    accuracy                           0.92      1936\n",
      "   macro avg       0.92      0.92      0.92      1936\n",
      "weighted avg       0.92      0.92      0.92      1936\n",
      "\n"
     ]
    }
   ],
   "source": [
    "\n",
    "# Predict using the trained model\n",
    "y_pred = model.predict(dict(test_inputs))\n",
    "\n"
   ]
  },
  {
   "cell_type": "code",
   "execution_count": 29,
   "id": "e90e8f94",
   "metadata": {},
   "outputs": [
    {
     "name": "stdout",
     "output_type": "stream",
     "text": [
      "Confusion Matrix:\n",
      "[[892 110]\n",
      " [ 50 884]]\n"
     ]
    }
   ],
   "source": [
    "from sklearn.metrics import confusion_matrix\n",
    "\n",
    "# Assuming you have actual labels (y_test) and predicted labels (y_pred)\n",
    "conf_matrix = confusion_matrix(true_labels, predicted_labels)\n",
    "\n",
    "print(\"Confusion Matrix:\")\n",
    "print(conf_matrix)\n"
   ]
  },
  {
   "cell_type": "code",
   "execution_count": 36,
   "id": "e1a70c60",
   "metadata": {},
   "outputs": [
    {
     "data": {
      "text/plain": [
       "<Figure size 800x500 with 0 Axes>"
      ]
     },
     "metadata": {},
     "output_type": "display_data"
    },
    {
     "data": {
      "image/png": "[encoded data removed]",
      "text/plain": [
       "<Figure size 640x480 with 1 Axes>"
      ]
     },
     "metadata": {},
     "output_type": "display_data"
    }
   ],
   "source": [
    "plt.figure(figsize=(8,5))\n",
    "pd.DataFrame(history.history).plot()\n",
    "plt.show()"
   ]
  },
  {
   "cell_type": "code",
   "execution_count": null,
   "id": "9dc630ef",
   "metadata": {},
   "outputs": [],
   "source": []
  }
 ],
 "metadata": {
  "kernelspec": {
   "display_name": "Python 3 (ipykernel)",
   "language": "python",
   "name": "python3"
  },
  "language_info": {
   "codemirror_mode": {
    "name": "ipython",
    "version": 3
   },
   "file_extension": ".py",
   "mimetype": "text/x-python",
   "name": "python",
   "nbconvert_exporter": "python",
   "pygments_lexer": "ipython3",
   "version": "3.11.4"
  }
 },
 "nbformat": 4,
 "nbformat_minor": 5
}
